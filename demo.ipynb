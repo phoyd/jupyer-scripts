{
 "cells": [
  {
   "cell_type": "code",
   "execution_count": 99,
   "id": "a66f2b7e-42f3-484d-a60a-cae16de22caa",
   "metadata": {},
   "outputs": [
    {
     "data": {
      "text/markdown": [
       "In Python, you can compute the sum of a list using several methods. Here are some common ways:\n",
       "\n",
       "1. **Using the built-in `sum()` function:**\n",
       "   The `sum()` function is the simplest and most efficient way to calculate the sum of elements in a list.\n",
       "\n",
       "   ```python\n",
       "   numbers = [1, 2, 3, 4, 5]\n",
       "   total = sum(numbers)\n",
       "   print(total)  # Output: 15\n",
       "   ```\n",
       "\n",
       "2. **Using a for loop:**\n",
       "   You can manually iterate through the list and accumulate the sum.\n",
       "\n",
       "   ```python\n",
       "   numbers = [1, 2, 3, 4, 5]\n",
       "   total = 0\n",
       "   for num in numbers:\n",
       "       total += num\n",
       "   print(total)  # Output: 15\n",
       "   ```\n",
       "\n",
       "3. **Using `reduce()` from the `functools` module:**\n",
       "   The `reduce()` function can be used to apply a rolling computation to sequential pairs of values in a list.\n",
       "\n",
       "   ```python\n",
       "   from functools import reduce\n",
       "\n",
       "   numbers = [1, 2, 3, 4, 5]\n",
       "   total = reduce(lambda x, y: x + y, numbers)\n",
       "   print(total)  # Output: 15\n",
       "   ```\n",
       "\n",
       "4. **Using NumPy (for numerical computations):**\n",
       "   If you are working with large datasets or need additional numerical capabilities, you can use the NumPy library.\n",
       "\n",
       "   ```python\n",
       "   import numpy as np\n",
       "\n",
       "   numbers = [1, 2, 3, 4, 5]\n",
       "   total = np.sum(numbers)\n",
       "   print(total)  # Output: 15\n",
       "   ```\n",
       "\n",
       "Each method has its own use case and can be chosen based on the specific requirements of your project. The `sum()` function is generally the most straightforward and efficient for simple tasks.\n",
       "|Key|Value|\n",
       "|---|-----|\n",
       "|model|qwen2.5-coder:14b|\n",
       "|prompt/s|1044.4409629745678|\n",
       "|reply/s|29.92915352625287|\n"
      ],
      "text/plain": [
       "<IPython.core.display.Markdown object>"
      ]
     },
     "metadata": {},
     "output_type": "display_data"
    },
    {
     "name": "stdout",
     "output_type": "stream",
     "text": [
      "model='qwen2.5-coder:14b' created_at='2024-11-28T10:15:44.678238534Z' done=True done_reason='stop' total_duration=13419846565 load_duration=44599184 prompt_eval_count=40 prompt_eval_duration=38298000 eval_count=395 eval_duration=13197834000 message=Message(role='assistant', content='', images=None, tool_calls=None)\n",
      "<class 'ollama._types.ChatResponse'>\n"
     ]
    }
   ],
   "source": [
    "from importlib import reload\n",
    "import llm\n",
    "reload(llm)\n",
    "llm.ask(\"How do compute the sum of an list in python?\")"
   ]
  },
  {
   "cell_type": "code",
   "execution_count": 68,
   "id": "03528219-2529-4838-bbb4-fc257e31ab2c",
   "metadata": {},
   "outputs": [
    {
     "data": {
      "text/plain": [
       "6"
      ]
     },
     "execution_count": 68,
     "metadata": {},
     "output_type": "execute_result"
    }
   ],
   "source": [
    "sum([1,2,3])"
   ]
  },
  {
   "cell_type": "code",
   "execution_count": null,
   "id": "f89dcbe7-aa39-4f12-a51a-9dfe34a88b4f",
   "metadata": {},
   "outputs": [],
   "source": []
  }
 ],
 "metadata": {
  "kernelspec": {
   "display_name": "Python 3 (ipykernel)",
   "language": "python",
   "name": "python3"
  },
  "language_info": {
   "codemirror_mode": {
    "name": "ipython",
    "version": 3
   },
   "file_extension": ".py",
   "mimetype": "text/x-python",
   "name": "python",
   "nbconvert_exporter": "python",
   "pygments_lexer": "ipython3",
   "version": "3.10.12"
  }
 },
 "nbformat": 4,
 "nbformat_minor": 5
}
